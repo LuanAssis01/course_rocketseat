{
 "cells": [
  {
   "cell_type": "code",
   "execution_count": 4,
   "metadata": {},
   "outputs": [
    {
     "name": "stdout",
     "output_type": "stream",
     "text": [
      "['ChatOllama', 'OllamaEmbeddings', 'OllamaLLM', '__all__', '__builtins__', '__cached__', '__doc__', '__file__', '__loader__', '__name__', '__package__', '__path__', '__spec__', '__version__', 'chat_models', 'embeddings', 'llms']\n"
     ]
    }
   ],
   "source": [
    "import langchain_ollama\n",
    "print(dir(langchain_ollama))\n"
   ]
  },
  {
   "cell_type": "code",
   "execution_count": 1,
   "metadata": {},
   "outputs": [],
   "source": [
    "import os\n",
    "\n",
    "from langchain_text_splitters import RecursiveCharacterTextSplitter\n",
    "from langchain_ollama import OllamaEmbeddings\n",
    "from langchain_ollama.llms import OllamaLLM\n",
    "from langchain.chains import RetrievalQA\n",
    "from langchain.vectorstores import Chroma\n",
    "from langchain_community.document_loaders import PyPDFLoader\n",
    "from langchain.chains.question_answering import load_qa_chain"
   ]
  },
  {
   "cell_type": "code",
   "execution_count": 16,
   "metadata": {},
   "outputs": [],
   "source": [
    "#carregando modelo llm \n",
    "llm = OllamaLLM(model=\"llama3.2:latest\", request_timeout=5000.0, temperature=0.0)"
   ]
  },
  {
   "cell_type": "code",
   "execution_count": 17,
   "metadata": {},
   "outputs": [],
   "source": [
    "#carregango o embedding\n",
    "embeds_model = OllamaEmbeddings(model=\"llama3.2:latest\")"
   ]
  },
  {
   "cell_type": "code",
   "execution_count": 18,
   "metadata": {},
   "outputs": [],
   "source": [
    "#carregando o pdf\n",
    "loader = PyPDFLoader(\"/home/luan/rag/Resumo_S.O.pdf\", extract_images=False)\n",
    "pages = loader.load_and_split()"
   ]
  },
  {
   "cell_type": "code",
   "execution_count": 19,
   "metadata": {},
   "outputs": [],
   "source": [
    "#carregando os chunks\n",
    "text_spliter = RecursiveCharacterTextSplitter(\n",
    "    chunk_size=4000,\n",
    "    chunk_overlap=20,\n",
    "    length_function=len,\n",
    "    add_start_index=True\n",
    ")\n",
    "\n",
    "chunks = text_spliter.split_documents(pages)"
   ]
  },
  {
   "cell_type": "code",
   "execution_count": 21,
   "metadata": {},
   "outputs": [
    {
     "name": "stdout",
     "output_type": "stream",
     "text": [
      "Banco de dados criado e persistido automaticamente.\n"
     ]
    }
   ],
   "source": [
    "try:\n",
    "    vector_store = Chroma.from_documents(\n",
    "        documents=chunks,\n",
    "        embedding=embeds_model,\n",
    "        persist_directory=\"./test2\"  # Diretório de persistência\n",
    "    )\n",
    "    print(\"Banco de dados criado e persistido automaticamente.\")\n",
    "except Exception as e:\n",
    "    print(f\"Erro ao criar o banco: {e}\")\n"
   ]
  },
  {
   "cell_type": "code",
   "execution_count": 22,
   "metadata": {},
   "outputs": [],
   "source": [
    "retriever = vector_store.as_retriever(search_kwargs={\"k\": 3})\n",
    "\n",
    "\n",
    "qa_chain = RetrievalQA.from_chain_type(\n",
    "    llm=llm,\n",
    "    chain_type=\"stuff\", \n",
    "    retriever=retriever\n",
    ")\n"
   ]
  },
  {
   "cell_type": "code",
   "execution_count": 23,
   "metadata": {},
   "outputs": [],
   "source": [
    "def ask(question):\n",
    "    try:\n",
    "        # Recuperar documentos relevantes usando o retriever\n",
    "        context = retriever.invoke(question)\n",
    "        \n",
    "        # Passar os documentos e a pergunta para o chain\n",
    "        response = qa_chain.invoke({\"input_documents\": context, \"query\": question})\n",
    "        \n",
    "        # Verificando a estrutura completa da resposta\n",
    "        print(\"Resposta Completa:\", response)  # Imprimindo o retorno para entender sua estrutura\n",
    "        \n",
    "        # Ajuste na extração da resposta\n",
    "        answer = response.get('output_text', \"Resposta não encontrada.\")\n",
    "        \n",
    "        return answer, context  # Retornando a resposta e o contexto\n",
    "        \n",
    "    except Exception as e:\n",
    "        return f\"Erro ao processar a pergunta: {e}\", None  # Retorna erro e contexto como None\n"
   ]
  },
  {
   "cell_type": "code",
   "execution_count": 25,
   "metadata": {},
   "outputs": [
    {
     "name": "stdout",
     "output_type": "stream",
     "text": [
      "Resposta Completa: {'input_documents': [Document(metadata={'page': 2, 'source': '/home/luan/rag/Resumo_S.O.pdf', 'start_index': 0}, page_content='ResumoSlide4:\\nProcessos:\\n● Sãoinstânciasdeprogramasemexecução,contendoinformaçõescomocontadordeprograma,registradoresevariáveis.● Osistemaoperacionalorganizaprogramasemprocessosque,atravésdochaveamento,dãoaimpressãodeexecuçãoparalela.\\nThreads:\\n● São\"miniprocessos\"dentrodeummesmoprocesso,compartilhandorecursos,maspermitindoexecuçõesindependentes.● Úteisparaaplicaçõesquerequeremmúltiplasatividadessimultâneas,comoservidoreswebeeditoresdetexto.\\nComunicaçãoInterprocesso(IPC):\\n● Podeocorrerviamemóriacompartilhada(rápida,massuscetívelaproblemasdesincronização)outrocademensagens(maissegura,porémmaislentaemsistemasdistribuídos).\\nProblemasClássicos:\\n● Condiçõesdecorrida:Quandoprocessosacessamsimultaneamenteamesmamemória,causandoinconsistências.● Deadlocks:Quandoprocessosficamesperandoindefinidamenteporrecursosunsdosoutros.\\nSoluçõesdeSincronização:\\n● Semáforos:Paragerenciaroacessoarecursoscompartilhados.● Monitores:Estruturasdealtonívelqueevitamproblemascomsemáforos.● Barreiras:Garantemqueprocessossincronizadosprogridemjuntos.'), Document(metadata={'page': 1, 'source': '/home/luan/rag/Resumo_S.O.pdf', 'start_index': 0}, page_content='ResumoSlide3:\\n1. OqueéumSistemaOperacional?○ Umprogramaque:■ Abstraiohardware:Simplificaousodamáquinaaoesconderacomplexidadedoscomponentesfísicos.■ GerenciarecursoscomoCPU,memória,discosedispositivosdeentrada/saída,alocando-osdeformaeficiente.2. ComponentesdoSistemaOperacional:○ Recursosfísicos:Processadores,memórias,discoseterminais.○ Recursosabstratos:Processos,arquivoseoutroselementoscriadospeloSO.3. Funçõesprincipais:○ Máquinaestendida:Oferecerumainterfacesimplificada(ex.:arquivosrepresentamarmazenamento,processosrepresentamaCPU).○ Gerenciadorderecursos:Permitirousocompartilhadoderecursos,protegendodadosegarantindoeficiência.4. Modosdeoperação:○ Modokernel:OSOoperadiretamentesobreohardwarecomacessototal.○ Modousuário:Programascomunscomacessolimitadoaohardware.5. Processodeinicialização(Bootstrap):○ ExecutaverificaçõesiniciaisdehardwareecarregaoSO.\\nExplicaçãosimples:\\nImagineumSistemaOperacionalcomoo\"gerente\"docomputador. Eleorganizaecontrolatudo:\\n● Traduzcomandosdousuárioparaqueohardware(comoprocessadoresememória)entenda.● Divideosrecursos,paraqueváriosprogramaspossamfuncionaraomesmotemposeminterferirem.● Facilitaainteraçãocomamáquina,transformandotarefascomplexasemalgosimpleserápido.'), Document(metadata={'page': 0, 'source': '/home/luan/rag/Resumo_S.O.pdf', 'start_index': 0}, page_content='ResumoSlide2:\\nHistóriadosSistemasOperacionais\\n1. GeraçãoZero(1642-1945):○ Antesdoscomputadoreseletrônicos,surgirammáquinasmecânicasdecálculo,comoaPascalina(adiçãoesubtração)eaMáquinadeBabbage(comconceitoscomoloopsecondicionais).AdaLovelacecriouoprimeiroalgoritmo,tornando-seaprimeiraprogramadora.2. 1ªGeração(1945-55):○ Usodeválvulasdevácuo.SemSOs,aprogramaçãoerafeitamanualmentenohardware,comonoENIAC.○ IntroduçãodaarquiteturadeVonNeumannedoconceitodearmazenarprogramasnamemória.3. 2ªGeração(1955-65):○ Transistoressubstituíramasválvulas,melhorandodesempenhoeconfiabilidade.○ SurgimentodoprocessamentoemloteseosprimeirosSOsbásicos.4. 3ªGeração(1965-1980):○ Circuitosintegradospermitirammultiprogramaçãoetime-sharing,reduzindoociosidadeeaumentandoaeficiência.○ SistemascomooIBMSystem/360introduziramversatilidadeemtarefascomerciaisecientíficas.5. 4ªGeração(1980-1990):○ Aparecimentodecomputadorespessoaisacessíveis.SistemascomoDOSeUNIXpopularizaramousodomésticoeempresarial.○ Interfacesgráficascomeçaramaemergir.6. 5ªGeração(1990- Atualidade):○ Computaçãodistribuída,móveleemnuvem(ex.:iOS,Android,Kubernetes).○ Osmodernossãootimizadosparamúltiplosusuários,multiprogramaçãoetarefasemnuvem.\\nFuturoeImpactos\\n● ComputaçãoQuântica:○ Introduzqubits(superposiçãode0e1)etrazdesafiosparaSOs,comogestãodequbitsecorreçãodeerrosquânticos.○ Necessidadedeabstrairafísicaquânticaparafacilitarodesenvolvimentodesoftware.● ModelosTeóricos:○ MáquinasdeTuring,autômatoseconceitoscomocálculolambdaservemdebaseparaentenderacomputaçãoecriarlinguagensdeprogramação.')], 'query': 'O que é um sistema operacional?', 'result': 'Um sistema operacional (SO) é um programa que gerencia e controla o uso dos recursos do computador, como a memória, o processador e os dispositivos de entrada/saída. Ele atua como intermediário entre o usuário e o hardware, fornecendo uma interface simplificada para interagir com o computador.\\n\\nO SO é responsável por:\\n\\n* Traduzir comandos do usuário para que o hardware possa entender;\\n* Dividir os recursos para que vários programas possam funcionar ao mesmo tempo sem interferir uns nos outros;\\n* Facilitar a comunicação entre os programas e o hardware;\\n\\nEm resumo, um sistema operacional é como um \"gerente\" do computador, organizando e controlando todos os recursos para que o usuário possa usar o computador de forma eficiente e segura.'}\n",
      "\n",
      "Answer: Resposta não encontrada.\n",
      "\n",
      "Contexto utilizado:\n",
      "page_content='ResumoSlide4:\n",
      "Processos:\n",
      "● Sãoinstânciasdeprogramasemexecução,contendoinformaçõescomocontadordeprograma,registradoresevariáveis.● Osistemaoperacionalorganizaprogramasemprocessosque,atravésdochaveamento,dãoaimpressãodeexecuçãoparalela.\n",
      "Threads:\n",
      "● São\"miniprocessos\"dentrodeummesmoprocesso,compartilhandorecursos,maspermitindoexecuçõesindependentes.● Úteisparaaplicaçõesquerequeremmúltiplasatividadessimultâneas,comoservidoreswebeeditoresdetexto.\n",
      "ComunicaçãoInterprocesso(IPC):\n",
      "● Podeocorrerviamemóriacompartilhada(rápida,massuscetívelaproblemasdesincronização)outrocademensagens(maissegura,porémmaislentaemsistemasdistribuídos).\n",
      "ProblemasClássicos:\n",
      "● Condiçõesdecorrida:Quandoprocessosacessamsimultaneamenteamesmamemória,causandoinconsistências.● Deadlocks:Quandoprocessosficamesperandoindefinidamenteporrecursosunsdosoutros.\n",
      "SoluçõesdeSincronização:\n",
      "● Semáforos:Paragerenciaroacessoarecursoscompartilhados.● Monitores:Estruturasdealtonívelqueevitamproblemascomsemáforos.● Barreiras:Garantemqueprocessossincronizadosprogridemjuntos.' metadata={'page': 2, 'source': '/home/luan/rag/Resumo_S.O.pdf', 'start_index': 0}\n",
      "page_content='ResumoSlide3:\n",
      "1. OqueéumSistemaOperacional?○ Umprogramaque:■ Abstraiohardware:Simplificaousodamáquinaaoesconderacomplexidadedoscomponentesfísicos.■ GerenciarecursoscomoCPU,memória,discosedispositivosdeentrada/saída,alocando-osdeformaeficiente.2. ComponentesdoSistemaOperacional:○ Recursosfísicos:Processadores,memórias,discoseterminais.○ Recursosabstratos:Processos,arquivoseoutroselementoscriadospeloSO.3. Funçõesprincipais:○ Máquinaestendida:Oferecerumainterfacesimplificada(ex.:arquivosrepresentamarmazenamento,processosrepresentamaCPU).○ Gerenciadorderecursos:Permitirousocompartilhadoderecursos,protegendodadosegarantindoeficiência.4. Modosdeoperação:○ Modokernel:OSOoperadiretamentesobreohardwarecomacessototal.○ Modousuário:Programascomunscomacessolimitadoaohardware.5. Processodeinicialização(Bootstrap):○ ExecutaverificaçõesiniciaisdehardwareecarregaoSO.\n",
      "Explicaçãosimples:\n",
      "ImagineumSistemaOperacionalcomoo\"gerente\"docomputador. Eleorganizaecontrolatudo:\n",
      "● Traduzcomandosdousuárioparaqueohardware(comoprocessadoresememória)entenda.● Divideosrecursos,paraqueváriosprogramaspossamfuncionaraomesmotemposeminterferirem.● Facilitaainteraçãocomamáquina,transformandotarefascomplexasemalgosimpleserápido.' metadata={'page': 1, 'source': '/home/luan/rag/Resumo_S.O.pdf', 'start_index': 0}\n",
      "page_content='ResumoSlide2:\n",
      "HistóriadosSistemasOperacionais\n",
      "1. GeraçãoZero(1642-1945):○ Antesdoscomputadoreseletrônicos,surgirammáquinasmecânicasdecálculo,comoaPascalina(adiçãoesubtração)eaMáquinadeBabbage(comconceitoscomoloopsecondicionais).AdaLovelacecriouoprimeiroalgoritmo,tornando-seaprimeiraprogramadora.2. 1ªGeração(1945-55):○ Usodeválvulasdevácuo.SemSOs,aprogramaçãoerafeitamanualmentenohardware,comonoENIAC.○ IntroduçãodaarquiteturadeVonNeumannedoconceitodearmazenarprogramasnamemória.3. 2ªGeração(1955-65):○ Transistoressubstituíramasválvulas,melhorandodesempenhoeconfiabilidade.○ SurgimentodoprocessamentoemloteseosprimeirosSOsbásicos.4. 3ªGeração(1965-1980):○ Circuitosintegradospermitirammultiprogramaçãoetime-sharing,reduzindoociosidadeeaumentandoaeficiência.○ SistemascomooIBMSystem/360introduziramversatilidadeemtarefascomerciaisecientíficas.5. 4ªGeração(1980-1990):○ Aparecimentodecomputadorespessoaisacessíveis.SistemascomoDOSeUNIXpopularizaramousodomésticoeempresarial.○ Interfacesgráficascomeçaramaemergir.6. 5ªGeração(1990- Atualidade):○ Computaçãodistribuída,móveleemnuvem(ex.:iOS,Android,Kubernetes).○ Osmodernossãootimizadosparamúltiplosusuários,multiprogramaçãoetarefasemnuvem.\n",
      "FuturoeImpactos\n",
      "● ComputaçãoQuântica:○ Introduzqubits(superposiçãode0e1)etrazdesafiosparaSOs,comogestãodequbitsecorreçãodeerrosquânticos.○ Necessidadedeabstrairafísicaquânticaparafacilitarodesenvolvimentodesoftware.● ModelosTeóricos:○ MáquinasdeTuring,autômatoseconceitoscomocálculolambdaservemdebaseparaentenderacomputaçãoecriarlinguagensdeprogramação.' metadata={'page': 0, 'source': '/home/luan/rag/Resumo_S.O.pdf', 'start_index': 0}\n"
     ]
    }
   ],
   "source": [
    "\n",
    "# Interação com o usuário\n",
    "user_question = input(\"User: \")\n",
    "answer, context = ask(user_question)\n",
    "\n",
    "print(\"\\nAnswer:\", answer)\n",
    "if context:\n",
    "    print(\"\\nContexto utilizado:\")\n",
    "    for doc in context:\n",
    "        print(doc)"
   ]
  },
  {
   "cell_type": "code",
   "execution_count": 27,
   "metadata": {},
   "outputs": [
    {
     "name": "stdout",
     "output_type": "stream",
     "text": [
      "page_content='ResumoSlide4:\n",
      "Processos:\n",
      "● Sãoinstânciasdeprogramasemexecução,contendoinformaçõescomocontadordeprograma,registradoresevariáveis.● Osistemaoperacionalorganizaprogramasemprocessosque,atravésdochaveamento,dãoaimpressãodeexecuçãoparalela.\n",
      "Threads:\n",
      "● São\"miniprocessos\"dentrodeummesmoprocesso,compartilhandorecursos,maspermitindoexecuçõesindependentes.● Úteisparaaplicaçõesquerequeremmúltiplasatividadessimultâneas,comoservidoreswebeeditoresdetexto.\n",
      "ComunicaçãoInterprocesso(IPC):\n",
      "● Podeocorrerviamemóriacompartilhada(rápida,massuscetívelaproblemasdesincronização)outrocademensagens(maissegura,porémmaislentaemsistemasdistribuídos).\n",
      "ProblemasClássicos:\n",
      "● Condiçõesdecorrida:Quandoprocessosacessamsimultaneamenteamesmamemória,causandoinconsistências.● Deadlocks:Quandoprocessosficamesperandoindefinidamenteporrecursosunsdosoutros.\n",
      "SoluçõesdeSincronização:\n",
      "● Semáforos:Paragerenciaroacessoarecursoscompartilhados.● Monitores:Estruturasdealtonívelqueevitamproblemascomsemáforos.● Barreiras:Garantemqueprocessossincronizadosprogridemjuntos.' metadata={'page': 2, 'source': '/home/luan/rag/Resumo_S.O.pdf', 'start_index': 0}\n"
     ]
    }
   ],
   "source": [
    "print(context[0])"
   ]
  }
 ],
 "metadata": {
  "kernelspec": {
   "display_name": "dev",
   "language": "python",
   "name": "python3"
  },
  "language_info": {
   "codemirror_mode": {
    "name": "ipython",
    "version": 3
   },
   "file_extension": ".py",
   "mimetype": "text/x-python",
   "name": "python",
   "nbconvert_exporter": "python",
   "pygments_lexer": "ipython3",
   "version": "3.11.11"
  }
 },
 "nbformat": 4,
 "nbformat_minor": 2
}
